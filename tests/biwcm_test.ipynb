{
 "cells": [
  {
   "cell_type": "code",
   "execution_count": 1,
   "metadata": {},
   "outputs": [],
   "source": [
    "import sys\n",
    "sys.path.append('..')\n",
    "from bicm.graph_classes import *\n",
    "from bicm.network_functions import *\n",
    "from bicm.models_functions import *\n",
    "\n",
    "# import bicm\n",
    "# from bicm import *\n",
    "import numpy as np"
   ]
  },
  {
   "cell_type": "code",
   "execution_count": 2,
   "metadata": {},
   "outputs": [],
   "source": [
    "weighted_biadmat = np.random.randint(10**8, size=(100,200))\n",
    "weighted_biadmat = weighted_biadmat.astype(float) / 2\n",
    "weighted_biadmat[0,:] = 0"
   ]
  },
  {
   "cell_type": "code",
   "execution_count": 3,
   "metadata": {},
   "outputs": [],
   "source": [
    "inted_biadmat = weighted_biadmat.astype(int)\n",
    "inted_biadmat = inted_biadmat[:, inted_biadmat.sum(0) != 0]\n",
    "inted_biadmat = inted_biadmat[inted_biadmat.sum(1) != 0]"
   ]
  },
  {
   "cell_type": "code",
   "execution_count": 4,
   "metadata": {},
   "outputs": [],
   "source": [
    "weighted_biadmat = np.loadtxt('test_weighted.csv', delimiter=',')"
   ]
  },
  {
   "cell_type": "code",
   "execution_count": 5,
   "metadata": {},
   "outputs": [
    {
     "name": "stdout",
     "output_type": "stream",
     "text": [
      "Continuous weighted model: BiWCM_c\n"
     ]
    }
   ],
   "source": [
    "myGraph = BipartiteGraph(biadjacency=weighted_biadmat)"
   ]
  },
  {
   "cell_type": "code",
   "execution_count": 6,
   "metadata": {},
   "outputs": [
    {
     "name": "stdout",
     "output_type": "stream",
     "text": [
      "max rows error = 5.371251298979985e-06\n",
      "max columns error = 5.170977639344081e-05\n",
      "total error = 0.00020379179282881867\n",
      "Solver converged.\n"
     ]
    }
   ],
   "source": [
    "myGraph.solve_tool()"
   ]
  },
  {
   "cell_type": "code",
   "execution_count": 7,
   "metadata": {},
   "outputs": [
    {
     "name": "stdout",
     "output_type": "stream",
     "text": [
      "Discrete weighted model: BiWCM_d\n"
     ]
    },
    {
     "name": "stderr",
     "output_type": "stream",
     "text": [
      "/home/matteo/miniconda3/envs/bicm/lib/python3.10/site-packages/numba/core/utils.py:612: NumbaExperimentalFeatureWarning: First-class function type feature is experimental\n",
      "  warnings.warn(\"First-class function type feature is experimental\",\n",
      "/home/matteo/Sony/BiCM/tests/../bicm/models_functions.py:326: NumbaExperimentalFeatureWarning: First-class function type feature is experimental\n",
      "  step_fun = args[0]\n",
      "/home/matteo/Sony/BiCM/tests/../bicm/models_functions.py:327: NumbaExperimentalFeatureWarning: First-class function type feature is experimental\n",
      "  arg_step_fun = args[1]\n"
     ]
    },
    {
     "name": "stdout",
     "output_type": "stream",
     "text": [
      "max rows error = 1.292211770189949e-08\n",
      "max columns error = 1.5122955286560155e-08\n",
      "total error = 1.751356289921369e-06\n",
      "Solver converged.\n"
     ]
    },
    {
     "name": "stderr",
     "output_type": "stream",
     "text": [
      "/home/matteo/miniconda3/envs/bicm/lib/python3.10/site-packages/numba/core/utils.py:612: NumbaExperimentalFeatureWarning: First-class function type feature is experimental\n",
      "  warnings.warn(\"First-class function type feature is experimental\",\n"
     ]
    }
   ],
   "source": [
    "myGraph = BipartiteGraph(biadjacency=inted_biadmat)\n",
    "myGraph.solve_tool()"
   ]
  },
  {
   "cell_type": "code",
   "execution_count": 8,
   "metadata": {},
   "outputs": [],
   "source": [
    "weighted_biadmat = np.loadtxt('test_weighted.csv', delimiter=',')\n",
    "# weighted_biadmat = weighted_biadmat[:, weighted_biadmat.sum(0) != 0]\n",
    "# weighted_biadmat = weighted_biadmat[weighted_biadmat.sum(1) != 0]\n",
    "# weighted_biadmat[np.where(weighted_biadmat > 10**3)] = 10**3"
   ]
  },
  {
   "cell_type": "code",
   "execution_count": 9,
   "metadata": {},
   "outputs": [],
   "source": [
    "inted_biadmat = weighted_biadmat.astype(int)\n",
    "# inted_biadmat = inted_biadmat[:, inted_biadmat.sum(0) != 0]\n",
    "# inted_biadmat = inted_biadmat[inted_biadmat.sum(1) != 0]"
   ]
  },
  {
   "cell_type": "code",
   "execution_count": 10,
   "metadata": {},
   "outputs": [
    {
     "name": "stdout",
     "output_type": "stream",
     "text": [
      "Continuous weighted model: BiWCM_c\n"
     ]
    }
   ],
   "source": [
    "myGraph = BipartiteGraph(biadjacency=weighted_biadmat)"
   ]
  },
  {
   "cell_type": "code",
   "execution_count": 11,
   "metadata": {},
   "outputs": [
    {
     "name": "stdout",
     "output_type": "stream",
     "text": [
      "max rows error = 5.371251298979985e-06\n",
      "max columns error = 5.170977639344081e-05\n",
      "total error = 0.00020379179282881867\n",
      "Solver converged.\n"
     ]
    }
   ],
   "source": [
    "myGraph.solve_tool()"
   ]
  },
  {
   "cell_type": "code",
   "execution_count": 12,
   "metadata": {},
   "outputs": [
    {
     "name": "stdout",
     "output_type": "stream",
     "text": [
      "Discrete weighted model: BiWCM_d\n"
     ]
    },
    {
     "name": "stderr",
     "output_type": "stream",
     "text": [
      "/home/matteo/miniconda3/envs/bicm/lib/python3.10/site-packages/numba/core/utils.py:612: NumbaExperimentalFeatureWarning: First-class function type feature is experimental\n",
      "  warnings.warn(\"First-class function type feature is experimental\",\n"
     ]
    },
    {
     "name": "stdout",
     "output_type": "stream",
     "text": [
      "max rows error = 0.0003356742203082646\n",
      "max columns error = 0.0008775152730202613\n",
      "total error = 0.004275111106339477\n",
      "Solver converged.\n"
     ]
    }
   ],
   "source": [
    "myGraph = BipartiteGraph(biadjacency=inted_biadmat)\n",
    "myGraph.solve_tool()"
   ]
  },
  {
   "cell_type": "markdown",
   "metadata": {},
   "source": [
    "If the convergence is not precise, use quasinewton's method or regularise=True, although it can take several minutes to get to convergence."
   ]
  },
  {
   "cell_type": "code",
   "execution_count": 13,
   "metadata": {},
   "outputs": [],
   "source": [
    "# myGraph = BipartiteGraph(biadjacency=inted_biadmat)\n",
    "# myGraph.solve_tool(regularise=True)"
   ]
  },
  {
   "cell_type": "markdown",
   "metadata": {},
   "source": [
    "You can also use the package to binarise the matrix by computing the pvalues of the observed weights and applying a threshold. There are possible choices for multiple hypothesis testing, \"global\", FDR or Bonferroni."
   ]
  },
  {
   "cell_type": "code",
   "execution_count": 14,
   "metadata": {},
   "outputs": [
    {
     "name": "stdout",
     "output_type": "stream",
     "text": [
      "FDR validated matrix will be returned by default. Set validation_method to \"global\" or \"bonferroni\" for alternatives or use .get_weighted_pvals_mat.\n"
     ]
    }
   ],
   "source": [
    "validated_mat = myGraph.get_validated_matrix(significance=0.01)"
   ]
  },
  {
   "cell_type": "code",
   "execution_count": 15,
   "metadata": {},
   "outputs": [
    {
     "data": {
      "text/plain": [
       "11767"
      ]
     },
     "execution_count": 15,
     "metadata": {},
     "output_type": "execute_result"
    }
   ],
   "source": [
    "validated_mat.sum()"
   ]
  },
  {
   "cell_type": "code",
   "execution_count": 16,
   "metadata": {},
   "outputs": [
    {
     "data": {
      "text/plain": [
       "6095"
      ]
     },
     "execution_count": 16,
     "metadata": {},
     "output_type": "execute_result"
    }
   ],
   "source": [
    "myGraph.get_validated_matrix(significance=0.01, validation_method='bonferroni').sum()"
   ]
  },
  {
   "cell_type": "code",
   "execution_count": 17,
   "metadata": {},
   "outputs": [
    {
     "data": {
      "text/plain": [
       "27747"
      ]
     },
     "execution_count": 17,
     "metadata": {},
     "output_type": "execute_result"
    }
   ],
   "source": [
    "myGraph.get_validated_matrix(significance=0.01, validation_method='global').sum()"
   ]
  },
  {
   "cell_type": "markdown",
   "metadata": {},
   "source": [
    "Or simply get the matrix of pvalues:"
   ]
  },
  {
   "cell_type": "code",
   "execution_count": 18,
   "metadata": {},
   "outputs": [
    {
     "data": {
      "text/plain": [
       "array([[1.00000000e+00, 1.00000000e+00, 1.00000000e+00, ...,\n",
       "        5.49506190e-01, 3.71909455e-09, 1.00000000e+00],\n",
       "       [1.00000000e+00, 1.00000000e+00, 1.00000000e+00, ...,\n",
       "        9.84148683e-01, 9.87142011e-01, 1.00000000e+00],\n",
       "       [9.92612348e-01, 1.00000000e+00, 1.00000000e+00, ...,\n",
       "        9.99721062e-01, 9.99724663e-01, 1.00000000e+00],\n",
       "       ...,\n",
       "       [1.00000000e+00, 1.00000000e+00, 1.00000000e+00, ...,\n",
       "        6.62339223e-01, 1.52596338e-01, 1.00000000e+00],\n",
       "       [1.00000000e+00, 9.57302813e-01, 1.00000000e+00, ...,\n",
       "        8.56091012e-01, 9.99651076e-01, 1.00000000e+00],\n",
       "       [1.00000000e+00, 9.88744435e-01, 1.00000000e+00, ...,\n",
       "        7.98322439e-03, 9.94163184e-01, 1.00000000e+00]])"
      ]
     },
     "execution_count": 18,
     "metadata": {},
     "output_type": "execute_result"
    }
   ],
   "source": [
    "myGraph.get_weighted_pvals_mat()"
   ]
  },
  {
   "cell_type": "code",
   "execution_count": 19,
   "metadata": {},
   "outputs": [
    {
     "data": {
      "text/plain": [
       "array([[  178415,   303851,    33421, ...,    44212,   284831,        0],\n",
       "       [  248280,   591572,     8339, ...,   196971,    14250,        0],\n",
       "       [12708183,   295000,    12313, ...,   882365, 15328450,        0],\n",
       "       ...,\n",
       "       [   49454,   274681,    65155, ...,   290168,   234001,        0],\n",
       "       [  932518,  4034634,     2220, ...,  1896148,  6638617,        0],\n",
       "       [ 1849180,  1926949,     2355, ...,  1401422,   246543,        0]])"
      ]
     },
     "execution_count": 19,
     "metadata": {},
     "output_type": "execute_result"
    }
   ],
   "source": [
    "sample_biwcm_d(myGraph.x, myGraph.y)"
   ]
  },
  {
   "cell_type": "code",
   "execution_count": null,
   "metadata": {},
   "outputs": [],
   "source": []
  }
 ],
 "metadata": {
  "kernelspec": {
   "display_name": "bicm",
   "language": "python",
   "name": "bicm"
  },
  "language_info": {
   "codemirror_mode": {
    "name": "ipython",
    "version": 3
   },
   "file_extension": ".py",
   "mimetype": "text/x-python",
   "name": "python",
   "nbconvert_exporter": "python",
   "pygments_lexer": "ipython3",
   "version": "3.10.2"
  }
 },
 "nbformat": 4,
 "nbformat_minor": 4
}
