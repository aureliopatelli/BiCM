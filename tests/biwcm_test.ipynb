{
 "cells": [
  {
   "cell_type": "code",
   "execution_count": 1,
   "metadata": {},
   "outputs": [],
   "source": [
    "import sys\n",
    "sys.path.append('..')\n",
    "from bicm.graph_classes import *\n",
    "from bicm.network_functions import *\n",
    "# import bicm\n",
    "# from bicm import *\n",
    "import numpy as np"
   ]
  },
  {
   "cell_type": "code",
   "execution_count": 16,
   "metadata": {},
   "outputs": [],
   "source": [
    "weighted_biadmat = np.random.randint(6, size=(100,200))"
   ]
  },
  {
   "cell_type": "code",
   "execution_count": 17,
   "metadata": {},
   "outputs": [
    {
     "name": "stdout",
     "output_type": "stream",
     "text": [
      "Weighted model mode\n"
     ]
    }
   ],
   "source": [
    "myGraph = BipartiteGraph(biadjacency=weighted_biadmat)"
   ]
  },
  {
   "cell_type": "code",
   "execution_count": 18,
   "metadata": {},
   "outputs": [
    {
     "name": "stdout",
     "output_type": "stream",
     "text": [
      "max rows error = 9.926393431669567e-07\n",
      "max columns error = 4.926359906676225e-07\n",
      "total error = 7.291955705568398e-05\n",
      "Solver converged.\n"
     ]
    },
    {
     "name": "stderr",
     "output_type": "stream",
     "text": [
      "/home/matteo/miniconda3/envs/bicm/lib/python3.10/site-packages/numba/core/utils.py:612: NumbaExperimentalFeatureWarning: First-class function type feature is experimental\n",
      "  warnings.warn(\"First-class function type feature is experimental\",\n"
     ]
    }
   ],
   "source": [
    "myGraph.solve_tool()"
   ]
  },
  {
   "cell_type": "code",
   "execution_count": 19,
   "metadata": {},
   "outputs": [
    {
     "data": {
      "text/plain": [
       "array([[2.45378042, 2.46379186, 2.55388938, ..., 2.51384728, 2.46379186,\n",
       "        3.11423205],\n",
       "       [2.5605491 , 2.57132047, 2.66837937, ..., 2.6252162 , 2.57132047,\n",
       "        3.27700488],\n",
       "       [2.47806036, 2.48824223, 2.57989982, ..., 2.53915853, 2.48824223,\n",
       "        3.15100932],\n",
       "       ...,\n",
       "       [2.40519551, 2.41487012, 2.50188644, ..., 2.46322482, 2.41487012,\n",
       "        3.04105591],\n",
       "       [2.64778265, 2.65919505, 2.76213634, ..., 2.71633358, 2.65919505,\n",
       "        3.4120372 ],\n",
       "       [2.43435045, 2.44422652, 2.53308532, ..., 2.49359828, 2.44422652,\n",
       "        3.08490122]])"
      ]
     },
     "execution_count": 19,
     "metadata": {},
     "output_type": "execute_result"
    }
   ],
   "source": [
    "myGraph.avg_mat"
   ]
  },
  {
   "cell_type": "code",
   "execution_count": 20,
   "metadata": {},
   "outputs": [
    {
     "data": {
      "text/plain": [
       "array([[0.50475653, 1.        , 0.19164208, ..., 0.36615758, 0.18207954,\n",
       "        0.43369714],\n",
       "       [0.19234489, 0.71999152, 0.72740006, ..., 0.72415438, 0.5183878 ,\n",
       "        1.        ],\n",
       "       [1.        , 0.25890717, 1.        , ..., 1.        , 0.18468435,\n",
       "        0.25204605],\n",
       "       ...,\n",
       "       [0.24890483, 0.50007964, 0.51042398, ..., 0.18201905, 0.25007965,\n",
       "        0.32071419],\n",
       "       [0.2775962 , 1.        , 0.39575986, ..., 0.53424052, 0.72671585,\n",
       "        0.5980661 ],\n",
       "       [1.        , 0.25362904, 0.71696127, ..., 0.71376217, 0.50361597,\n",
       "        1.        ]])"
      ]
     },
     "execution_count": 20,
     "metadata": {},
     "output_type": "execute_result"
    }
   ],
   "source": [
    "myGraph.get_weighted_pvals_mat()"
   ]
  },
  {
   "cell_type": "code",
   "execution_count": 21,
   "metadata": {},
   "outputs": [
    {
     "data": {
      "text/plain": [
       "array([[0, 0, 0, ..., 0, 0, 0],\n",
       "       [0, 0, 0, ..., 0, 0, 0],\n",
       "       [0, 0, 0, ..., 0, 0, 0],\n",
       "       ...,\n",
       "       [0, 0, 0, ..., 0, 0, 0],\n",
       "       [0, 0, 0, ..., 0, 0, 0],\n",
       "       [0, 0, 0, ..., 0, 0, 0]], dtype=uint8)"
      ]
     },
     "execution_count": 21,
     "metadata": {},
     "output_type": "execute_result"
    }
   ],
   "source": [
    "myGraph.get_rca_validated_matrix(significance=0.15)"
   ]
  },
  {
   "cell_type": "code",
   "execution_count": 24,
   "metadata": {},
   "outputs": [
    {
     "name": "stdout",
     "output_type": "stream",
     "text": [
      "max rows error = 2.9294263640622376e-05\n",
      "max columns error = 2.8716272026940715e-08\n",
      "total error = 0.00010308714715279166\n",
      "Solver converged.\n"
     ]
    }
   ],
   "source": [
    "myGraph.solve_tool(model='bicwcm')"
   ]
  },
  {
   "cell_type": "code",
   "execution_count": 25,
   "metadata": {},
   "outputs": [],
   "source": [
    "weighted_biadmat = weighted_biadmat.astype(float) / 2"
   ]
  },
  {
   "cell_type": "code",
   "execution_count": 26,
   "metadata": {},
   "outputs": [
    {
     "name": "stdout",
     "output_type": "stream",
     "text": [
      "Weighted model mode\n"
     ]
    }
   ],
   "source": [
    "myGraph = BipartiteGraph(biadjacency=weighted_biadmat)"
   ]
  },
  {
   "cell_type": "code",
   "execution_count": 27,
   "metadata": {},
   "outputs": [],
   "source": [
    "from bicm.models_functions import *"
   ]
  },
  {
   "cell_type": "code",
   "execution_count": 28,
   "metadata": {},
   "outputs": [
    {
     "name": "stdout",
     "output_type": "stream",
     "text": [
      "max rows error = 7.650068994280446e-06\n",
      "max columns error = 7.1326269335258985e-09\n",
      "total error = 2.560802640516613e-05\n",
      "Solver converged.\n"
     ]
    }
   ],
   "source": [
    "myGraph.solve_tool()"
   ]
  },
  {
   "cell_type": "code",
   "execution_count": 29,
   "metadata": {},
   "outputs": [
    {
     "data": {
      "text/plain": [
       "array([[1.22690109, 1.2319062 , 1.27694726, ..., 1.25693012, 1.2319062 ,\n",
       "        1.55696295],\n",
       "       [1.27995722, 1.28540553, 1.33452162, ..., 1.31267419, 1.28540553,\n",
       "        1.64341096],\n",
       "       [1.23896995, 1.24407421, 1.29002604, ..., 1.26960005, 1.24407421,\n",
       "        1.57645038],\n",
       "       ...,\n",
       "       [1.20274481, 1.20755438, 1.25080109, ..., 1.23158911, 1.20755438,\n",
       "        1.51826631],\n",
       "       [1.32327536, 1.32909953, 1.38167982, ..., 1.35827459, 1.32909953,\n",
       "        1.71551591],\n",
       "       [1.21724154, 1.22216798, 1.26648696, ..., 1.24679389, 1.22216798,\n",
       "        1.54143995]])"
      ]
     },
     "execution_count": 29,
     "metadata": {},
     "output_type": "execute_result"
    }
   ],
   "source": [
    "myGraph.avg_mat"
   ]
  },
  {
   "cell_type": "code",
   "execution_count": 30,
   "metadata": {},
   "outputs": [
    {
     "data": {
      "text/plain": [
       "array([[0.44261205, 1.        , 0.14116946, ..., 0.30319359, 0.13141759,\n",
       "        0.38158789],\n",
       "       [0.1418209 , 0.67774627, 0.68751881, ..., 0.68324496, 0.45934   ,\n",
       "        1.        ],\n",
       "       [1.        , 0.20036369, 1.        , ..., 1.        , 0.13405214,\n",
       "        0.20477546],\n",
       "       ...,\n",
       "       [0.18959537, 0.43686981, 0.44955924, ..., 0.13134895, 0.19085523,\n",
       "        0.2678597 ],\n",
       "       [0.22060065, 1.        , 0.33768728, ..., 0.47891691, 0.68646877,\n",
       "        0.55826862],\n",
       "       [1.        , 0.19467257, 0.6738196 , ..., 0.66963091, 0.44121715,\n",
       "        1.        ]])"
      ]
     },
     "execution_count": 30,
     "metadata": {},
     "output_type": "execute_result"
    }
   ],
   "source": [
    "myGraph.get_weighted_pvals_mat()"
   ]
  },
  {
   "cell_type": "code",
   "execution_count": 32,
   "metadata": {},
   "outputs": [
    {
     "data": {
      "text/plain": [
       "array([[0.44261205, 1.        , 0.14116946, ..., 0.30319359, 0.13141759,\n",
       "        0.38158789],\n",
       "       [0.1418209 , 0.67774627, 0.68751881, ..., 0.68324496, 0.45934   ,\n",
       "        1.        ],\n",
       "       [1.        , 0.20036369, 1.        , ..., 1.        , 0.13405214,\n",
       "        0.20477546],\n",
       "       ...,\n",
       "       [0.18959537, 0.43686981, 0.44955924, ..., 0.13134895, 0.19085523,\n",
       "        0.2678597 ],\n",
       "       [0.22060065, 1.        , 0.33768728, ..., 0.47891691, 0.68646877,\n",
       "        0.55826862],\n",
       "       [1.        , 0.19467257, 0.6738196 , ..., 0.66963091, 0.44121715,\n",
       "        1.        ]])"
      ]
     },
     "execution_count": 32,
     "metadata": {},
     "output_type": "execute_result"
    }
   ],
   "source": [
    "myGraph.get_weighted_pvals_mat()"
   ]
  },
  {
   "cell_type": "code",
   "execution_count": 31,
   "metadata": {},
   "outputs": [
    {
     "data": {
      "text/plain": [
       "array([[0, 0, 1, ..., 0, 1, 0],\n",
       "       [1, 0, 0, ..., 0, 0, 0],\n",
       "       [0, 0, 0, ..., 0, 1, 0],\n",
       "       ...,\n",
       "       [0, 0, 0, ..., 1, 0, 0],\n",
       "       [0, 0, 0, ..., 0, 0, 0],\n",
       "       [0, 0, 0, ..., 0, 0, 0]], dtype=uint8)"
      ]
     },
     "execution_count": 31,
     "metadata": {},
     "output_type": "execute_result"
    }
   ],
   "source": [
    "myGraph.get_rca_validated_matrix(significance=0.15)"
   ]
  },
  {
   "cell_type": "code",
   "execution_count": 33,
   "metadata": {},
   "outputs": [
    {
     "name": "stderr",
     "output_type": "stream",
     "text": [
      "/home/matteo/miniconda3/envs/bicm/lib/python3.10/site-packages/numba/core/utils.py:612: NumbaExperimentalFeatureWarning: First-class function type feature is experimental\n",
      "  warnings.warn(\"First-class function type feature is experimental\",\n",
      "/home/matteo/Sony/BiCM/bicm/models_functions.py:30: NumbaExperimentalFeatureWarning: First-class function type feature is experimental\n",
      "  step_fun = args[0]\n",
      "/home/matteo/Sony/BiCM/bicm/models_functions.py:31: NumbaExperimentalFeatureWarning: First-class function type feature is experimental\n",
      "  arg_step_fun = args[1]\n"
     ]
    },
    {
     "name": "stdout",
     "output_type": "stream",
     "text": [
      "max rows error = 3.094647240686754e-07\n",
      "max columns error = 6.984549543176399e-07\n",
      "total error = 2.276719918370418e-05\n",
      "Solver converged.\n"
     ]
    },
    {
     "name": "stderr",
     "output_type": "stream",
     "text": [
      "/home/matteo/miniconda3/envs/bicm/lib/python3.10/site-packages/numba/core/utils.py:612: NumbaExperimentalFeatureWarning: First-class function type feature is experimental\n",
      "  warnings.warn(\"First-class function type feature is experimental\",\n"
     ]
    }
   ],
   "source": [
    "myGraph.solve_tool(model='biwcm')"
   ]
  },
  {
   "cell_type": "code",
   "execution_count": null,
   "metadata": {},
   "outputs": [],
   "source": []
  }
 ],
 "metadata": {
  "kernelspec": {
   "display_name": "Python 3 (ipykernel)",
   "language": "python",
   "name": "python3"
  },
  "language_info": {
   "codemirror_mode": {
    "name": "ipython",
    "version": 3
   },
   "file_extension": ".py",
   "mimetype": "text/x-python",
   "name": "python",
   "nbconvert_exporter": "python",
   "pygments_lexer": "ipython3",
   "version": "3.10.2"
  }
 },
 "nbformat": 4,
 "nbformat_minor": 4
}
