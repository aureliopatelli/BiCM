{
 "cells": [
  {
   "cell_type": "code",
   "execution_count": 1,
   "metadata": {},
   "outputs": [],
   "source": [
    "import sys\n",
    "sys.path.append('..')\n",
    "from bicm.graph_classes import *\n",
    "from bicm.network_functions import *\n",
    "# import bicm\n",
    "# from bicm import *\n",
    "import numpy as np"
   ]
  },
  {
   "cell_type": "code",
   "execution_count": 27,
   "metadata": {},
   "outputs": [],
   "source": [
    "weighted_biadmat = np.random.randint(6, size=(100,200))"
   ]
  },
  {
   "cell_type": "code",
   "execution_count": 28,
   "metadata": {},
   "outputs": [
    {
     "name": "stdout",
     "output_type": "stream",
     "text": [
      "Weighted model mode\n"
     ]
    }
   ],
   "source": [
    "myGraph = BipartiteGraph(biadjacency=weighted_biadmat)"
   ]
  },
  {
   "cell_type": "code",
   "execution_count": 29,
   "metadata": {},
   "outputs": [
    {
     "name": "stdout",
     "output_type": "stream",
     "text": [
      "max rows error = 3.4515118954914215e-05\n",
      "max columns error = 9.508987716344564e-05\n",
      "total error = 0.000912895960965443\n",
      "Solver converged.\n"
     ]
    }
   ],
   "source": [
    "myGraph.solve_tool()"
   ]
  },
  {
   "cell_type": "code",
   "execution_count": 35,
   "metadata": {},
   "outputs": [
    {
     "data": {
      "text/plain": [
       "array([[2.35819473, 2.61354373, 2.45646505, ..., 2.46628804, 2.50557261,\n",
       "        2.27952598],\n",
       "       [2.47150209, 2.7491642 , 2.57811905, ..., 2.58879287, 2.63151016,\n",
       "        2.3863674 ],\n",
       "       [2.31273434, 2.55940918, 2.40775199, ..., 2.41724395, 2.45519398,\n",
       "        2.23659218],\n",
       "       ...,\n",
       "       [2.34456486, 2.59729653, 2.4418542 , ..., 2.45157732, 2.49045921,\n",
       "        2.2666577 ],\n",
       "       [2.3263807 , 2.57564271, 2.42236897, ..., 2.43195968, 2.47030775,\n",
       "        2.24948418],\n",
       "       [2.38543328, 2.64605569, 2.48567885, ..., 2.49570301, 2.53579888,\n",
       "        2.3052321 ]])"
      ]
     },
     "execution_count": 35,
     "metadata": {},
     "output_type": "execute_result"
    }
   ],
   "source": [
    "myGraph.avg_mat"
   ]
  },
  {
   "cell_type": "code",
   "execution_count": null,
   "metadata": {},
   "outputs": [],
   "source": []
  }
 ],
 "metadata": {
  "kernelspec": {
   "display_name": "Python 3 (ipykernel)",
   "language": "python",
   "name": "python3"
  },
  "language_info": {
   "codemirror_mode": {
    "name": "ipython",
    "version": 3
   },
   "file_extension": ".py",
   "mimetype": "text/x-python",
   "name": "python",
   "nbconvert_exporter": "python",
   "pygments_lexer": "ipython3",
   "version": "3.10.2"
  }
 },
 "nbformat": 4,
 "nbformat_minor": 4
}
