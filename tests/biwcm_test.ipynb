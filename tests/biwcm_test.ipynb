{
 "cells": [
  {
   "cell_type": "code",
   "execution_count": 1,
   "metadata": {},
   "outputs": [],
   "source": [
    "import sys\n",
    "sys.path.append('..')\n",
    "from bicm.graph_classes import *\n",
    "from bicm.network_functions import *\n",
    "from bicm.models_functions import *\n",
    "\n",
    "# import bicm\n",
    "# from bicm import *\n",
    "import numpy as np"
   ]
  },
  {
   "cell_type": "code",
   "execution_count": 2,
   "metadata": {},
   "outputs": [],
   "source": [
    "weighted_biadmat = np.random.randint(10**8, size=(100,200))\n",
    "weighted_biadmat = weighted_biadmat.astype(float) / 2\n",
    "weighted_biadmat[0,:] = 0"
   ]
  },
  {
   "cell_type": "code",
   "execution_count": 3,
   "metadata": {},
   "outputs": [],
   "source": [
    "inted_biadmat = weighted_biadmat.astype(int)\n",
    "inted_biadmat = inted_biadmat[:, inted_biadmat.sum(0) != 0]\n",
    "inted_biadmat = inted_biadmat[inted_biadmat.sum(1) != 0]"
   ]
  },
  {
   "cell_type": "code",
   "execution_count": 4,
   "metadata": {},
   "outputs": [
    {
     "name": "stdout",
     "output_type": "stream",
     "text": [
      "Continuous weighted model: BiWCM\n"
     ]
    }
   ],
   "source": [
    "myGraph = BipartiteGraph(biadjacency=weighted_biadmat)"
   ]
  },
  {
   "cell_type": "code",
   "execution_count": 5,
   "metadata": {},
   "outputs": [
    {
     "name": "stdout",
     "output_type": "stream",
     "text": [
      "max rows error = 1.4217444605199065e-09\n",
      "max columns error = 1.4787765151307014e-09\n",
      "total error = 2.2055330847837703e-07\n",
      "Solver converged.\n"
     ]
    }
   ],
   "source": [
    "myGraph.solve_tool()"
   ]
  },
  {
   "cell_type": "code",
   "execution_count": 7,
   "metadata": {},
   "outputs": [
    {
     "name": "stdout",
     "output_type": "stream",
     "text": [
      "Discrete multilink weighted model: BiMCM\n"
     ]
    },
    {
     "name": "stderr",
     "output_type": "stream",
     "text": [
      "/home/matteo/miniconda3/envs/bicm/lib/python3.10/site-packages/numba/core/utils.py:612: NumbaExperimentalFeatureWarning: First-class function type feature is experimental\n",
      "  warnings.warn(\"First-class function type feature is experimental\",\n",
      "/home/matteo/Sony/BiCM/bicm/models_functions.py:326: NumbaExperimentalFeatureWarning: First-class function type feature is experimental\n",
      "  step_fun = args[0]\n",
      "/home/matteo/Sony/BiCM/bicm/models_functions.py:327: NumbaExperimentalFeatureWarning: First-class function type feature is experimental\n",
      "  arg_step_fun = args[1]\n"
     ]
    },
    {
     "name": "stdout",
     "output_type": "stream",
     "text": [
      "max rows error = 8.339304188346448e-09\n",
      "max columns error = 8.122263569765885e-09\n",
      "total error = 9.076017053987132e-07\n",
      "Solver converged.\n"
     ]
    },
    {
     "name": "stderr",
     "output_type": "stream",
     "text": [
      "/home/matteo/miniconda3/envs/bicm/lib/python3.10/site-packages/numba/core/utils.py:612: NumbaExperimentalFeatureWarning: First-class function type feature is experimental\n",
      "  warnings.warn(\"First-class function type feature is experimental\",\n"
     ]
    }
   ],
   "source": [
    "myGraph = BipartiteGraph(biadjacency=inted_biadmat)\n",
    "myGraph.solve_tool()"
   ]
  },
  {
   "cell_type": "code",
   "execution_count": 9,
   "metadata": {},
   "outputs": [],
   "source": [
    "weighted_biadmat = np.loadtxt('test_weighted.csv', delimiter=',')\n",
    "# weighted_biadmat = weighted_biadmat[:, weighted_biadmat.sum(0) != 0]\n",
    "# weighted_biadmat = weighted_biadmat[weighted_biadmat.sum(1) != 0]\n",
    "# weighted_biadmat[np.where(weighted_biadmat > 10**3)] = 10**3"
   ]
  },
  {
   "cell_type": "code",
   "execution_count": 10,
   "metadata": {},
   "outputs": [],
   "source": [
    "inted_biadmat = weighted_biadmat.astype(int)\n",
    "# inted_biadmat = inted_biadmat[:, inted_biadmat.sum(0) != 0]\n",
    "# inted_biadmat = inted_biadmat[inted_biadmat.sum(1) != 0]"
   ]
  },
  {
   "cell_type": "code",
   "execution_count": 11,
   "metadata": {},
   "outputs": [
    {
     "name": "stdout",
     "output_type": "stream",
     "text": [
      "Continuous weighted model: BiWCM\n"
     ]
    }
   ],
   "source": [
    "myGraph = BipartiteGraph(biadjacency=weighted_biadmat)"
   ]
  },
  {
   "cell_type": "code",
   "execution_count": 12,
   "metadata": {},
   "outputs": [
    {
     "name": "stdout",
     "output_type": "stream",
     "text": [
      "max rows error = 5.371251298979985e-06\n",
      "max columns error = 5.170977639344081e-05\n",
      "total error = 0.00020379179282881867\n",
      "Solver converged.\n"
     ]
    }
   ],
   "source": [
    "myGraph.solve_tool()"
   ]
  },
  {
   "cell_type": "code",
   "execution_count": 14,
   "metadata": {},
   "outputs": [
    {
     "name": "stdout",
     "output_type": "stream",
     "text": [
      "Discrete multilink weighted model: BiMCM\n"
     ]
    },
    {
     "name": "stderr",
     "output_type": "stream",
     "text": [
      "/home/matteo/miniconda3/envs/bicm/lib/python3.10/site-packages/numba/core/utils.py:612: NumbaExperimentalFeatureWarning: First-class function type feature is experimental\n",
      "  warnings.warn(\"First-class function type feature is experimental\",\n"
     ]
    },
    {
     "name": "stdout",
     "output_type": "stream",
     "text": [
      "max rows error = 0.0003356742203082646\n",
      "max columns error = 0.0008775152730202613\n",
      "total error = 0.004275111106339477\n",
      "Solver converged.\n"
     ]
    }
   ],
   "source": [
    "myGraph = BipartiteGraph(biadjacency=inted_biadmat)\n",
    "myGraph.solve_tool()"
   ]
  },
  {
   "cell_type": "markdown",
   "metadata": {},
   "source": [
    "If the convergence is not precise, use quasinewton's method or regularise=True, although it can take several minutes to get to convergence."
   ]
  },
  {
   "cell_type": "code",
   "execution_count": 15,
   "metadata": {},
   "outputs": [],
   "source": [
    "# myGraph = BipartiteGraph(biadjacency=inted_biadmat)\n",
    "# myGraph.solve_tool(regularise=True)"
   ]
  },
  {
   "cell_type": "code",
   "execution_count": null,
   "metadata": {},
   "outputs": [],
   "source": []
  }
 ],
 "metadata": {
  "kernelspec": {
   "display_name": "bicm",
   "language": "python",
   "name": "bicm"
  },
  "language_info": {
   "codemirror_mode": {
    "name": "ipython",
    "version": 3
   },
   "file_extension": ".py",
   "mimetype": "text/x-python",
   "name": "python",
   "nbconvert_exporter": "python",
   "pygments_lexer": "ipython3",
   "version": "3.10.2"
  }
 },
 "nbformat": 4,
 "nbformat_minor": 4
}
