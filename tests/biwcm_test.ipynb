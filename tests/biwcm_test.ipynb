{
 "cells": [
  {
   "cell_type": "code",
   "execution_count": 1,
   "metadata": {},
   "outputs": [],
   "source": [
    "import sys\n",
    "sys.path.append('..')\n",
    "from bicm.graph_classes import *\n",
    "from bicm.network_functions import *\n",
    "# import bicm\n",
    "# from bicm import *\n",
    "import numpy as np"
   ]
  },
  {
   "cell_type": "code",
   "execution_count": 2,
   "metadata": {},
   "outputs": [],
   "source": [
    "weighted_biadmat = np.random.randint(6, size=(100,200))"
   ]
  },
  {
   "cell_type": "code",
   "execution_count": 3,
   "metadata": {},
   "outputs": [
    {
     "name": "stdout",
     "output_type": "stream",
     "text": [
      "Weighted model mode\n"
     ]
    }
   ],
   "source": [
    "myGraph = BipartiteGraph(biadjacency=weighted_biadmat)"
   ]
  },
  {
   "cell_type": "code",
   "execution_count": 4,
   "metadata": {},
   "outputs": [
    {
     "name": "stderr",
     "output_type": "stream",
     "text": [
      "/home/matteo/miniconda3/envs/bicm/lib/python3.10/site-packages/numba/core/utils.py:612: NumbaExperimentalFeatureWarning: First-class function type feature is experimental\n",
      "  warnings.warn(\"First-class function type feature is experimental\",\n",
      "/home/matteo/Sony/BiCM/bicm/models_functions.py:30: NumbaExperimentalFeatureWarning: First-class function type feature is experimental\n",
      "  step_fun = args[0]\n",
      "/home/matteo/Sony/BiCM/bicm/models_functions.py:31: NumbaExperimentalFeatureWarning: First-class function type feature is experimental\n",
      "  arg_step_fun = args[1]\n"
     ]
    },
    {
     "name": "stdout",
     "output_type": "stream",
     "text": [
      "max rows error = 3.410605131648481e-13\n",
      "max columns error = 3.979039320256561e-13\n",
      "total error = 2.560796019679401e-11\n",
      "Solver converged.\n"
     ]
    },
    {
     "name": "stderr",
     "output_type": "stream",
     "text": [
      "/home/matteo/miniconda3/envs/bicm/lib/python3.10/site-packages/numba/core/utils.py:612: NumbaExperimentalFeatureWarning: First-class function type feature is experimental\n",
      "  warnings.warn(\"First-class function type feature is experimental\",\n"
     ]
    }
   ],
   "source": [
    "myGraph.solve_tool()"
   ]
  },
  {
   "cell_type": "code",
   "execution_count": 5,
   "metadata": {},
   "outputs": [
    {
     "data": {
      "text/plain": [
       "array([[2.39303034, 3.00184411, 2.41573224, ..., 2.96697946, 2.64391944,\n",
       "        3.22379138],\n",
       "       [2.07352773, 2.54020215, 2.09133041, ..., 2.51406757, 2.26852401,\n",
       "        2.70494606],\n",
       "       [2.27032207, 2.82195344, 2.29107385, ..., 2.79063508, 2.49887158,\n",
       "        3.02056097],\n",
       "       ...,\n",
       "       [2.21445183, 2.74112973, 2.23434402, ..., 2.7113447 , 2.43319232,\n",
       "        2.92968859],\n",
       "       [2.02072632, 2.4659825 , 2.0377751 , ..., 2.44113805, 2.20719125,\n",
       "        2.62234741],\n",
       "       [2.14220033, 2.63759392, 2.16100716, ..., 2.60971869, 2.34858945,\n",
       "        2.81367421]])"
      ]
     },
     "execution_count": 5,
     "metadata": {},
     "output_type": "execute_result"
    }
   ],
   "source": [
    "myGraph.avg_mat"
   ]
  },
  {
   "cell_type": "code",
   "execution_count": 19,
   "metadata": {},
   "outputs": [
    {
     "data": {
      "text/plain": [
       "array([[0.7052782 , 0.7501152 , 0.50018418, ..., 0.41837311, 0.20109314,\n",
       "        0.25901347],\n",
       "       [0.45514044, 0.51484967, 0.20946377, ..., 0.36618497, 1.        ,\n",
       "        0.20743575],\n",
       "       [1.        , 0.54516618, 0.48462177, ..., 0.54197861, 0.18581453,\n",
       "        0.56441937],\n",
       "       ...,\n",
       "       [0.47459005, 1.        , 1.        , ..., 0.73055588, 0.35598764,\n",
       "        0.30892517],\n",
       "       [0.20025551, 0.50620595, 0.20248951, ..., 0.35700207, 0.22431609,\n",
       "        0.72393592],\n",
       "       [0.68175167, 0.72509301, 0.21843534, ..., 1.        , 0.24198074,\n",
       "        0.73778568]])"
      ]
     },
     "execution_count": 19,
     "metadata": {},
     "output_type": "execute_result"
    }
   ],
   "source": [
    "myGraph.get_weighted_pvals_mat()"
   ]
  },
  {
   "cell_type": "code",
   "execution_count": 20,
   "metadata": {},
   "outputs": [
    {
     "data": {
      "text/plain": [
       "array([[0, 0, 0, ..., 0, 0, 0],\n",
       "       [0, 0, 0, ..., 0, 0, 0],\n",
       "       [0, 0, 0, ..., 0, 0, 0],\n",
       "       ...,\n",
       "       [0, 0, 0, ..., 0, 0, 0],\n",
       "       [0, 0, 0, ..., 0, 0, 0],\n",
       "       [0, 0, 0, ..., 0, 0, 0]], dtype=uint8)"
      ]
     },
     "execution_count": 20,
     "metadata": {},
     "output_type": "execute_result"
    }
   ],
   "source": [
    "myGraph.get_rca_matrix(significance=0.15)"
   ]
  },
  {
   "cell_type": "code",
   "execution_count": null,
   "metadata": {},
   "outputs": [],
   "source": []
  }
 ],
 "metadata": {
  "kernelspec": {
   "display_name": "Python 3 (ipykernel)",
   "language": "python",
   "name": "python3"
  },
  "language_info": {
   "codemirror_mode": {
    "name": "ipython",
    "version": 3
   },
   "file_extension": ".py",
   "mimetype": "text/x-python",
   "name": "python",
   "nbconvert_exporter": "python",
   "pygments_lexer": "ipython3",
   "version": "3.10.2"
  }
 },
 "nbformat": 4,
 "nbformat_minor": 4
}
