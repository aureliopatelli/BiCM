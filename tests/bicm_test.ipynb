{
 "cells": [
  {
   "cell_type": "code",
   "execution_count": 2,
   "metadata": {},
   "outputs": [],
   "source": [
    "import sys\n",
    "sys.path.append('..')\n",
    "# from BipartiteGraph import *\n",
    "# import bicm\n",
    "from bicm import *\n",
    "import numpy as np"
   ]
  },
  {
   "cell_type": "markdown",
   "metadata": {},
   "source": [
    "This test uses a plant-pollinator network from Petanidou, T. (1991). Pollination ecology in a phryganic ecosystem.\n",
    "This script is run on an ordinary laptop."
   ]
  },
  {
   "cell_type": "code",
   "execution_count": 3,
   "metadata": {},
   "outputs": [],
   "source": [
    "biad_mat_names = np.loadtxt('test_dataset.csv', delimiter=',', dtype=str)\n",
    "plants = biad_mat_names[1:,0]\n",
    "pollinators = biad_mat_names[0, 1:]\n",
    "biad_mat = biad_mat_names[1:, 1:].astype(np.ubyte)\n",
    "plants_dict = dict(enumerate(np.unique(plants)))\n",
    "plants_inv_dict = {v:k for k,v in plants_dict.items()}\n",
    "pollinators_dict = dict(enumerate(np.unique(pollinators)))\n",
    "pollinators_inv_dict = {v:k for k,v in pollinators_dict.items()}"
   ]
  },
  {
   "cell_type": "markdown",
   "metadata": {},
   "source": [
    "You can manipulate a data structure into another with the functions of the package. It supports biadjacency matrices (numpy arrays or scipy sparse matrices), edgelists, adjacency lists (dictionaries) or just the degree sequences."
   ]
  },
  {
   "cell_type": "markdown",
   "metadata": {},
   "source": [
    "Let's create an edgelist with names."
   ]
  },
  {
   "cell_type": "code",
   "execution_count": 4,
   "metadata": {},
   "outputs": [
    {
     "name": "stdout",
     "output_type": "stream",
     "text": [
      "[('\"Acanthus spinosus\"', '\"Acmaeodera bipunctata \"'), ('\"Acanthus spinosus\"', '\"Adia cinerella \"'), ('\"Acanthus spinosus\"', '\"Alophora pusilla\"'), ('\"Acanthus spinosus\"', '\"Amasis lateralis\"'), ('\"Acanthus spinosus\"', '\"Amasis similis\"')]\n"
     ]
    }
   ],
   "source": [
    "# These data type converters return additional objects, keeping track of the node labeling and the node degrees.\n",
    "# The desired data structure is always at index 0. Check the documentation for more info.\n",
    "edgelist = edgelist_from_biadjacency(biad_mat)[0]\n",
    "edgelist_names = [(plants_dict[edge[0]], pollinators_dict[edge[1]]) for edge in edgelist]\n",
    "print(edgelist_names[:5])"
   ]
  },
  {
   "cell_type": "markdown",
   "metadata": {},
   "source": [
    "Now we can use the edgelist to create the bipartite graph. In two ways:"
   ]
  },
  {
   "cell_type": "code",
   "execution_count": 5,
   "metadata": {},
   "outputs": [],
   "source": [
    "myGraph = BipartiteGraph(edgelist=edgelist_names)"
   ]
  },
  {
   "cell_type": "code",
   "execution_count": 6,
   "metadata": {},
   "outputs": [],
   "source": [
    "myGraph = BipartiteGraph()\n",
    "myGraph.set_edgelist(edgelist_names)"
   ]
  },
  {
   "cell_type": "markdown",
   "metadata": {},
   "source": [
    "And now let's simply compute the bicm! This should run instantly. The solver checks that the solution is correct automatically."
   ]
  },
  {
   "cell_type": "code",
   "execution_count": 7,
   "metadata": {},
   "outputs": [
    {
     "ename": "AttributeError",
     "evalue": "'BipartiteGraph' object has no attribute 'solve_tool'",
     "output_type": "error",
     "traceback": [
      "\u001b[1;31m---------------------------------------------------------------------------\u001b[0m",
      "\u001b[1;31mAttributeError\u001b[0m                            Traceback (most recent call last)",
      "\u001b[1;32m<ipython-input-7-4ada706d702a>\u001b[0m in \u001b[0;36m<module>\u001b[1;34m\u001b[0m\n\u001b[1;32m----> 1\u001b[1;33m \u001b[0mmyGraph\u001b[0m\u001b[1;33m.\u001b[0m\u001b[0msolve_tool\u001b[0m\u001b[1;33m(\u001b[0m\u001b[1;33m)\u001b[0m\u001b[1;33m\u001b[0m\u001b[1;33m\u001b[0m\u001b[0m\n\u001b[0m\u001b[0;32m      2\u001b[0m \u001b[0mdict_x\u001b[0m\u001b[1;33m,\u001b[0m \u001b[0mdict_y\u001b[0m \u001b[1;33m=\u001b[0m \u001b[0mmyGraph\u001b[0m\u001b[1;33m.\u001b[0m\u001b[0mget_bicm_fitnesses\u001b[0m\u001b[1;33m(\u001b[0m\u001b[1;33m)\u001b[0m\u001b[1;33m\u001b[0m\u001b[1;33m\u001b[0m\u001b[0m\n\u001b[0;32m      3\u001b[0m \u001b[0mprint\u001b[0m\u001b[1;33m(\u001b[0m\u001b[1;34m'Yielded data type is:'\u001b[0m\u001b[1;33m,\u001b[0m \u001b[0mtype\u001b[0m\u001b[1;33m(\u001b[0m\u001b[0mdict_x\u001b[0m\u001b[1;33m)\u001b[0m\u001b[1;33m)\u001b[0m\u001b[1;33m\u001b[0m\u001b[1;33m\u001b[0m\u001b[0m\n",
      "\u001b[1;31mAttributeError\u001b[0m: 'BipartiteGraph' object has no attribute 'solve_tool'"
     ]
    }
   ],
   "source": [
    "myGraph.solve_tool()\n",
    "dict_x, dict_y = myGraph.get_bicm_fitnesses()\n",
    "print('Yielded data type is:', type(dict_x))"
   ]
  },
  {
   "cell_type": "markdown",
   "metadata": {},
   "source": [
    "The computed fitnesses are given as dictionaries, keeping track of the name of the nodes. If you are sure about the order of the fitnesses, you can get separately the fitness vectors and the dictionaries that keep track of the order of the nodes:"
   ]
  },
  {
   "cell_type": "code",
   "execution_count": 8,
   "metadata": {},
   "outputs": [],
   "source": [
    "x = myGraph.x\n",
    "y = myGraph.y\n",
    "rows_dict = myGraph.rows_dict\n",
    "cols_dict = myGraph.cols_dict"
   ]
  },
  {
   "cell_type": "markdown",
   "metadata": {},
   "source": [
    "Alternatively, you can have the bicm matrix of probabilities, whose entries i, j are the bicm probabilities of having a link between nodes i and j (who will correspond to rows_dict[i] and cols_dict[j]), or compute it on your own"
   ]
  },
  {
   "cell_type": "code",
   "execution_count": 9,
   "metadata": {},
   "outputs": [
    {
     "name": "stdout",
     "output_type": "stream",
     "text": [
      "True\n"
     ]
    }
   ],
   "source": [
    "avg_mat = myGraph.get_bicm_matrix()\n",
    "print(avg_mat[0, 0] == x[0] * y[0] / (1 + x[0] * y[0]))"
   ]
  },
  {
   "cell_type": "code",
   "execution_count": 10,
   "metadata": {},
   "outputs": [
    {
     "name": "stdout",
     "output_type": "stream",
     "text": [
      "True\n"
     ]
    }
   ],
   "source": [
    "avg_mat = bicm_from_fitnesses(x, y)\n",
    "print(avg_mat[0, 0] == x[0] * y[0] / (1 + x[0] * y[0]))"
   ]
  },
  {
   "cell_type": "markdown",
   "metadata": {},
   "source": [
    "And, if you like, you can check the solution by yourself:"
   ]
  },
  {
   "cell_type": "code",
   "execution_count": 11,
   "metadata": {},
   "outputs": [
    {
     "name": "stdout",
     "output_type": "stream",
     "text": [
      "max rows error = 5.684341886080802e-14\n",
      "max columns error = 6.394884621840902e-14\n",
      "total error = 3.3653080322437745e-12\n"
     ]
    }
   ],
   "source": [
    "# The data type conversions are generally consistent with the order, so this works\n",
    "myGraph.check_sol(biad_mat, avg_mat)"
   ]
  },
  {
   "cell_type": "markdown",
   "metadata": {},
   "source": [
    "You can then sample from the BiCM ensemble in two ways, via matrix sampling or edgelist sampling."
   ]
  },
  {
   "cell_type": "code",
   "execution_count": 12,
   "metadata": {},
   "outputs": [],
   "source": [
    "# Here we generate a sampling of 1000 networks and calculate the distribution of the number of links.\n",
    "tot_links = []\n",
    "for sample_i in range(1000):\n",
    "    sampled_network = sample_bicm(avg_mat)\n",
    "    tot_links.append(np.sum(sampled_network))"
   ]
  },
  {
   "cell_type": "code",
   "execution_count": 13,
   "metadata": {},
   "outputs": [],
   "source": [
    "sampled_edgelist = sample_bicm_edgelist(x, y)"
   ]
  },
  {
   "cell_type": "markdown",
   "metadata": {},
   "source": [
    "Now let's compute the projection: it can take some seconds."
   ]
  },
  {
   "cell_type": "code",
   "execution_count": 14,
   "metadata": {},
   "outputs": [
    {
     "data": {
      "text/plain": [
       "HBox(children=(IntProgress(value=0, max=6748), HTML(value='')))"
      ]
     },
     "metadata": {},
     "output_type": "display_data"
    },
    {
     "name": "stdout",
     "output_type": "stream",
     "text": [
      "\n",
      "[['\"Asphodelus aestivus\"' '\"Astragalus monspessulanus\"']\n",
      " ['\"Asphodelus aestivus\"' '\"Biscutella didyma\"']\n",
      " ['\"Astragalus monspessulanus\"' '\"Biscutella didyma\"']\n",
      " ['\"Carduus pycnocephalus\"' '\"Hirschfeldia incana\"']\n",
      " ['\"Centaurea raphanina\"' '\"Echinops microcephalus\"']\n",
      " ['\"Centaurea raphanina\"' '\"Fumana thymifolia\"']\n",
      " ['\"Echinops microcephalus\"' '\"Fumana thymifolia\"']\n",
      " ['\"Fritillaria graeca\"' '\"Heliotropium dolosum\"']\n",
      " ['\"Fritillaria graeca\"' '\"Hypochoeris achyrophorus\"']\n",
      " ['\"Fumana arabica\"' '\"Papaver rhoeas\"']\n",
      " ['\"Heliotropium dolosum\"' '\"Hypochoeris achyrophorus\"']\n",
      " ['\"Phlomis fructicosa\"' '\"Plantago lagopus\"']\n",
      " ['\"Phlomis fructicosa\"' '\"Prasium majus\"']\n",
      " ['\"Plantago lagopus\"' '\"Prasium majus\"']]\n"
     ]
    }
   ],
   "source": [
    "rows_projection = myGraph.get_rows_projection()\n",
    "print(rows_projection)"
   ]
  },
  {
   "cell_type": "markdown",
   "metadata": {},
   "source": [
    "If you don't want to get the progress_bar you can set progress_bar=False. If you want to re-compute the projection with different settings, use compute_projection()"
   ]
  },
  {
   "cell_type": "code",
   "execution_count": 15,
   "metadata": {},
   "outputs": [],
   "source": [
    "myGraph.compute_projection(rows=True, alpha=0.01, progress_bar=False)"
   ]
  },
  {
   "cell_type": "code",
   "execution_count": 16,
   "metadata": {},
   "outputs": [
    {
     "name": "stdout",
     "output_type": "stream",
     "text": [
      "[['\"Asphodelus aestivus\"' '\"Astragalus monspessulanus\"']\n",
      " ['\"Asphodelus aestivus\"' '\"Biscutella didyma\"']\n",
      " ['\"Astragalus monspessulanus\"' '\"Biscutella didyma\"']\n",
      " ['\"Centaurea raphanina\"' '\"Echinops microcephalus\"']\n",
      " ['\"Centaurea raphanina\"' '\"Fumana thymifolia\"']\n",
      " ['\"Echinops microcephalus\"' '\"Fumana thymifolia\"']\n",
      " ['\"Fumana arabica\"' '\"Papaver rhoeas\"']\n",
      " ['\"Phlomis fructicosa\"' '\"Plantago lagopus\"']\n",
      " ['\"Phlomis fructicosa\"' '\"Prasium majus\"']\n",
      " ['\"Plantago lagopus\"' '\"Prasium majus\"']]\n"
     ]
    }
   ],
   "source": [
    "rows_projection = myGraph.get_rows_projection()\n",
    "print(rows_projection)"
   ]
  },
  {
   "cell_type": "markdown",
   "metadata": {},
   "source": [
    "These projection only contain links between nodes that behave similarly with respect to the expected behavior calculated from the BiCM. They could also be empty:"
   ]
  },
  {
   "cell_type": "code",
   "execution_count": 17,
   "metadata": {},
   "outputs": [
    {
     "data": {
      "text/plain": [
       "HBox(children=(IntProgress(value=0, max=35345), HTML(value='')))"
      ]
     },
     "metadata": {},
     "output_type": "display_data"
    },
    {
     "name": "stdout",
     "output_type": "stream",
     "text": [
      "\n",
      "No V-motifs will be validated. Try increasing alpha\n"
     ]
    }
   ],
   "source": [
    "cols_projection = myGraph.get_cols_projection()"
   ]
  },
  {
   "cell_type": "code",
   "execution_count": 18,
   "metadata": {},
   "outputs": [
    {
     "data": {
      "text/plain": [
       "HBox(children=(IntProgress(value=0, max=35345), HTML(value='')))"
      ]
     },
     "metadata": {},
     "output_type": "display_data"
    },
    {
     "name": "stdout",
     "output_type": "stream",
     "text": [
      "\n",
      "No V-motifs will be validated. Try increasing alpha\n"
     ]
    }
   ],
   "source": [
    "# Increasing alpha too much will make the projection too dense. \n",
    "# It is not suggested: if it is empty with a high alpha, try different projections.\n",
    "# Check the documentation and the papers for more info.\n",
    "myGraph.compute_projection(rows=False, alpha=0.2)"
   ]
  },
  {
   "cell_type": "markdown",
   "metadata": {},
   "source": [
    "Different projection methods are implemented. \n",
    "They differ in the way of approximating the poisson-binomial distribution of the similarities between nodes.\n",
    "By default, the poisson approximation is used, since the poisson binomial is very expensive to compute. Check the docs for more!\n",
    "Here, an example of the poibin implementation. This can take even some minutes, and it's faster when using a biadjacency matrix instead of other data types. Note that the poisson approximation is fairly good."
   ]
  },
  {
   "cell_type": "code",
   "execution_count": 19,
   "metadata": {},
   "outputs": [
    {
     "name": "stdout",
     "output_type": "stream",
     "text": [
      "Building the V-motifs list...\n",
      "Calculating p-values...\n"
     ]
    },
    {
     "data": {
      "text/plain": [
       "HBox(children=(IntProgress(value=0, max=459), HTML(value='')))"
      ]
     },
     "metadata": {},
     "output_type": "display_data"
    },
    {
     "name": "stdout",
     "output_type": "stream",
     "text": [
      "\n",
      "No V-motifs will be validated. Try increasing alpha\n",
      "[['\"Asphodelus aestivus\"' '\"Astragalus monspessulanus\"']\n",
      " ['\"Asphodelus aestivus\"' '\"Biscutella didyma\"']\n",
      " ['\"Astragalus monspessulanus\"' '\"Biscutella didyma\"']\n",
      " ['\"Centaurea raphanina\"' '\"Echinops microcephalus\"']\n",
      " ['\"Centaurea raphanina\"' '\"Fumana thymifolia\"']\n",
      " ['\"Echinops microcephalus\"' '\"Fumana thymifolia\"']\n",
      " ['\"Fumana arabica\"' '\"Papaver rhoeas\"']\n",
      " ['\"Phlomis fructicosa\"' '\"Plantago lagopus\"']\n",
      " ['\"Phlomis fructicosa\"' '\"Prasium majus\"']\n",
      " ['\"Plantago lagopus\"' '\"Prasium majus\"']]\n"
     ]
    }
   ],
   "source": [
    "myGraph.compute_projection(rows=False, method='poibin')\n",
    "rows_projection = myGraph.get_rows_projection()\n",
    "print(rows_projection)"
   ]
  },
  {
   "cell_type": "markdown",
   "metadata": {},
   "source": [
    "Now, let's have fun with other data structures and solver methods."
   ]
  },
  {
   "cell_type": "code",
   "execution_count": 20,
   "metadata": {},
   "outputs": [],
   "source": [
    "adj_list_names = adjacency_list_from_edgelist(edgelist_names, convert_type=False)[0]"
   ]
  },
  {
   "cell_type": "code",
   "execution_count": 21,
   "metadata": {},
   "outputs": [],
   "source": [
    "myGraph2 = BipartiteGraph(adjacency_list=adj_list_names)"
   ]
  },
  {
   "cell_type": "markdown",
   "metadata": {},
   "source": [
    "Asking for the projection immediately will do everything automatically."
   ]
  },
  {
   "cell_type": "code",
   "execution_count": 22,
   "metadata": {},
   "outputs": [
    {
     "name": "stdout",
     "output_type": "stream",
     "text": [
      "First I have to compute the BiCM. Computing...\n",
      "max rows error = 5.684341886080802e-14\n",
      "max columns error = 2.842170943040401e-14\n",
      "total error = 2.029265644409861e-12\n",
      "Solver converged.\n"
     ]
    },
    {
     "data": {
      "text/plain": [
       "HBox(children=(IntProgress(value=0, max=6748), HTML(value='')))"
      ]
     },
     "metadata": {},
     "output_type": "display_data"
    },
    {
     "name": "stdout",
     "output_type": "stream",
     "text": [
      "\n"
     ]
    },
    {
     "data": {
      "text/plain": [
       "array([['\"Asphodelus aestivus\"', '\"Astragalus monspessulanus\"'],\n",
       "       ['\"Asphodelus aestivus\"', '\"Biscutella didyma\"'],\n",
       "       ['\"Astragalus monspessulanus\"', '\"Biscutella didyma\"'],\n",
       "       ['\"Carduus pycnocephalus\"', '\"Hirschfeldia incana\"'],\n",
       "       ['\"Centaurea raphanina\"', '\"Echinops microcephalus\"'],\n",
       "       ['\"Centaurea raphanina\"', '\"Fumana thymifolia\"'],\n",
       "       ['\"Echinops microcephalus\"', '\"Fumana thymifolia\"'],\n",
       "       ['\"Fritillaria graeca\"', '\"Heliotropium dolosum\"'],\n",
       "       ['\"Fritillaria graeca\"', '\"Hypochoeris achyrophorus\"'],\n",
       "       ['\"Fumana arabica\"', '\"Papaver rhoeas\"'],\n",
       "       ['\"Heliotropium dolosum\"', '\"Hypochoeris achyrophorus\"'],\n",
       "       ['\"Phlomis fructicosa\"', '\"Plantago lagopus\"'],\n",
       "       ['\"Phlomis fructicosa\"', '\"Prasium majus\"'],\n",
       "       ['\"Plantago lagopus\"', '\"Prasium majus\"']], dtype='<U27')"
      ]
     },
     "execution_count": 22,
     "metadata": {},
     "output_type": "execute_result"
    }
   ],
   "source": [
    "myGraph2.get_rows_projection()"
   ]
  },
  {
   "cell_type": "code",
   "execution_count": 23,
   "metadata": {},
   "outputs": [],
   "source": [
    "rows_deg = biad_mat.sum(1)\n",
    "cols_deg = biad_mat.sum(0)"
   ]
  },
  {
   "cell_type": "code",
   "execution_count": 24,
   "metadata": {},
   "outputs": [],
   "source": [
    "myGraph3 = BipartiteGraph(degree_sequences=(rows_deg, cols_deg))"
   ]
  },
  {
   "cell_type": "markdown",
   "metadata": {},
   "source": [
    "Default (recommended) method is 'newton', three more methods are implemented"
   ]
  },
  {
   "cell_type": "code",
   "execution_count": 25,
   "metadata": {},
   "outputs": [
    {
     "name": "stdout",
     "output_type": "stream",
     "text": [
      "max rows error = 1.5070042991283117e-09\n",
      "max columns error = 4.630766170521383e-08\n",
      "total error = 9.787269128480602e-08\n",
      "Solver converged.\n"
     ]
    }
   ],
   "source": [
    "myGraph3.solve_tool(method='fixed-point', tol=1e-5, exp=True)"
   ]
  },
  {
   "cell_type": "code",
   "execution_count": 26,
   "metadata": {},
   "outputs": [
    {
     "name": "stdout",
     "output_type": "stream",
     "text": [
      "max rows error = 5.133949088076406e-07\n",
      "max columns error = 4.904185857412813e-07\n",
      "total error = 1.090741872067369e-05\n",
      "Solver converged.\n"
     ]
    }
   ],
   "source": [
    "myGraph3.solve_tool(method='quasinewton', tol=1e-12, exp=True)"
   ]
  },
  {
   "cell_type": "markdown",
   "metadata": {},
   "source": [
    "This is the only method that works with a scipy solver, not recommended."
   ]
  },
  {
   "cell_type": "code",
   "execution_count": 27,
   "metadata": {},
   "outputs": [
    {
     "name": "stdout",
     "output_type": "stream",
     "text": [
      "max rows error = 2.842170943040401e-14\n",
      "max columns error = 1.4210854715202004e-14\n",
      "total error = 9.79216707719388e-13\n",
      "Solver converged.\n"
     ]
    }
   ],
   "source": [
    "myGraph3.solve_tool(method='root')"
   ]
  },
  {
   "cell_type": "markdown",
   "metadata": {},
   "source": [
    "If you want to retrieve the p-values of the projection on one layer, use one of the following functions:"
   ]
  },
  {
   "cell_type": "code",
   "execution_count": null,
   "metadata": {},
   "outputs": [],
   "source": [
    "# Use the rows arg to project on the rows or columns\n",
    "adj_list = adjacency_list_from_adjacency_list(adj_list_names)[0]\n",
    "pval_list = projection_calculator_light(edgelist, x, y, return_pvals=True, rows=True)\n",
    "pval_list = projection_calculator_light_from_adjacency(adj_list, x, y, return_pvals=True)\n",
    "pval_list = projection_calculator(biad_mat, avg_mat, return_pvals=True)"
   ]
  },
  {
   "cell_type": "markdown",
   "metadata": {},
   "source": [
    "Finally, if you want to manage the calculation of the pvalues for the projection on your own, you can use the class PvaluesHandler (see more in the docs)"
   ]
  },
  {
   "cell_type": "code",
   "execution_count": 28,
   "metadata": {},
   "outputs": [
    {
     "data": {
      "text/plain": [
       "HBox(children=(IntProgress(value=0, max=6748), HTML(value='')))"
      ]
     },
     "metadata": {},
     "output_type": "display_data"
    },
    {
     "name": "stdout",
     "output_type": "stream",
     "text": [
      "\n",
      "[(0, 1, 0.9972317357273861), (0, 2, 0.9999999782267512), (0, 3, 0.9923305795538505), (0, 4, 0.9691310327759), (0, 5, 0.9958459965121919)]\n"
     ]
    }
   ],
   "source": [
    "# For the projection on the rows layer:\n",
    "v_list = vmotifs_from_adjacency_list(adj_list)\n",
    "pval_obj = PvaluesHandler()\n",
    "pval_obj.set_fitnesses(x, y)\n",
    "pval_obj.compute_pvals(v_list, method='poisson', threads_num=4, progress_bar=True)\n",
    "pval_list = pval_obj.pval_list\n",
    "# Contains a list of the couples of nodes that share at least a neighbor with the respective pvalue\n",
    "print(pval_list[:5])"
   ]
  },
  {
   "cell_type": "code",
   "execution_count": 29,
   "metadata": {},
   "outputs": [
    {
     "data": {
      "text/plain": [
       "HBox(children=(IntProgress(value=0, max=35345), HTML(value='')))"
      ]
     },
     "metadata": {},
     "output_type": "display_data"
    },
    {
     "name": "stdout",
     "output_type": "stream",
     "text": [
      "\n",
      "[(0, 1, 0.4713915751929158), (0, 2, 0.33940164225865216), (0, 3, 0.44956043489541525), (0, 4, 0.3781962354748192), (0, 5, 0.6687479057447224)]\n"
     ]
    }
   ],
   "source": [
    "# For the projection on the opposite layer:\n",
    "inv_adj_list = adjacency_list_from_adjacency_list(adj_list_names)[1]\n",
    "v_list = vmotifs_from_adjacency_list(inv_adj_list)\n",
    "pval_obj = PvaluesHandler()\n",
    "pval_obj.set_fitnesses(y, x)\n",
    "pval_obj.compute_pvals(v_list, method='poisson', threads_num=4, progress_bar=True)\n",
    "pval_list = pval_obj.pval_list\n",
    "# Contains a list of the couples of nodes that share at least a neighbor with the respective pvalue\n",
    "print(pval_list[:5])"
   ]
  },
  {
   "cell_type": "code",
   "execution_count": null,
   "metadata": {},
   "outputs": [],
   "source": []
  }
 ],
 "metadata": {
  "kernelspec": {
   "display_name": "Python 3",
   "language": "python",
   "name": "python3"
  },
  "language_info": {
   "codemirror_mode": {
    "name": "ipython",
    "version": 3
   },
   "file_extension": ".py",
   "mimetype": "text/x-python",
   "name": "python",
   "nbconvert_exporter": "python",
   "pygments_lexer": "ipython3",
   "version": "3.7.3"
  }
 },
 "nbformat": 4,
 "nbformat_minor": 2
}
