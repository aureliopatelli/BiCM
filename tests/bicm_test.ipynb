{
 "cells": [
  {
   "cell_type": "code",
   "execution_count": 1,
   "metadata": {},
   "outputs": [],
   "source": [
    "import sys\n",
    "sys.path.append('..')\n",
    "from bicm.graph_classes import *\n",
    "from bicm.network_functions import *\n",
    "# import bicm\n",
    "# from bicm import *\n",
    "import numpy as np"
   ]
  },
  {
   "cell_type": "markdown",
   "metadata": {},
   "source": [
    "This test uses a plant-pollinator network from Petanidou, T. (1991). Pollination ecology in a phryganic ecosystem.\n",
    "This script is run on an ordinary laptop."
   ]
  },
  {
   "cell_type": "code",
   "execution_count": 2,
   "metadata": {},
   "outputs": [],
   "source": [
    "biad_mat_names = np.loadtxt('test_dataset.csv', delimiter=',', dtype=str)\n",
    "plants = biad_mat_names[1:,0]\n",
    "pollinators = biad_mat_names[0, 1:]\n",
    "biad_mat = biad_mat_names[1:, 1:].astype(np.ubyte)\n",
    "plants_dict = dict(enumerate(np.unique(plants)))\n",
    "plants_inv_dict = {v:k for k,v in plants_dict.items()}\n",
    "pollinators_dict = dict(enumerate(np.unique(pollinators)))\n",
    "pollinators_inv_dict = {v:k for k,v in pollinators_dict.items()}"
   ]
  },
  {
   "cell_type": "markdown",
   "metadata": {},
   "source": [
    "You can manipulate a data structure into another with the functions of the package. It supports biadjacency matrices (numpy arrays or scipy sparse matrices), edgelists, adjacency lists (dictionaries) or just the degree sequences."
   ]
  },
  {
   "cell_type": "markdown",
   "metadata": {},
   "source": [
    "Let's create an edgelist with names."
   ]
  },
  {
   "cell_type": "code",
   "execution_count": 3,
   "metadata": {},
   "outputs": [
    {
     "name": "stdout",
     "output_type": "stream",
     "text": [
      "[('\"Acanthus spinosus\"', '\"Acmaeodera bipunctata \"'), ('\"Acanthus spinosus\"', '\"Adia cinerella \"'), ('\"Acanthus spinosus\"', '\"Alophora pusilla\"'), ('\"Acanthus spinosus\"', '\"Amasis lateralis\"'), ('\"Acanthus spinosus\"', '\"Amasis similis\"')]\n"
     ]
    }
   ],
   "source": [
    "# These data type converters return additional objects, keeping track of the node labeling and the node degrees.\n",
    "# The desired data structure is always at index 0. Check the documentation for more info.\n",
    "edgelist = edgelist_from_biadjacency(biad_mat)[0]\n",
    "edgelist_names = [(plants_dict[edge[0]], pollinators_dict[edge[1]]) for edge in edgelist]\n",
    "print(edgelist_names[:5])"
   ]
  },
  {
   "cell_type": "markdown",
   "metadata": {},
   "source": [
    "Now we can use the edgelist to create the bipartite graph. In two ways:"
   ]
  },
  {
   "cell_type": "code",
   "execution_count": 4,
   "metadata": {},
   "outputs": [],
   "source": [
    "myGraph = BipartiteGraph(edgelist=edgelist_names)"
   ]
  },
  {
   "cell_type": "code",
   "execution_count": 5,
   "metadata": {},
   "outputs": [],
   "source": [
    "myGraph = BipartiteGraph()\n",
    "myGraph.set_edgelist(edgelist_names)"
   ]
  },
  {
   "cell_type": "markdown",
   "metadata": {},
   "source": [
    "And now let's simply compute the bicm! This should run instantly. The solver checks that the solution is correct automatically."
   ]
  },
  {
   "cell_type": "code",
   "execution_count": 6,
   "metadata": {},
   "outputs": [
    {
     "name": "stderr",
     "output_type": "stream",
     "text": [
      "/home/matteo/miniconda3/envs/bicm/lib/python3.10/site-packages/numba/core/utils.py:612: NumbaExperimentalFeatureWarning: First-class function type feature is experimental\n",
      "  warnings.warn(\"First-class function type feature is experimental\",\n",
      "/home/matteo/miniconda3/envs/bicm/lib/python3.10/site-packages/bicm/models_functions.py:30: NumbaExperimentalFeatureWarning: First-class function type feature is experimental\n",
      "  step_fun = args[0]\n",
      "/home/matteo/miniconda3/envs/bicm/lib/python3.10/site-packages/bicm/models_functions.py:31: NumbaExperimentalFeatureWarning: First-class function type feature is experimental\n",
      "  arg_step_fun = args[1]\n"
     ]
    },
    {
     "name": "stdout",
     "output_type": "stream",
     "text": [
      "max rows error = 7.144598246355827e-10\n",
      "max columns error = 2.1845778519491432e-09\n",
      "total error = 4.569030931378393e-09\n",
      "Solver converged.\n",
      "Yielded data type is: <class 'dict'>\n"
     ]
    },
    {
     "name": "stderr",
     "output_type": "stream",
     "text": [
      "/home/matteo/miniconda3/envs/bicm/lib/python3.10/site-packages/numba/core/utils.py:612: NumbaExperimentalFeatureWarning: First-class function type feature is experimental\n",
      "  warnings.warn(\"First-class function type feature is experimental\",\n"
     ]
    }
   ],
   "source": [
    "myGraph.solve_tool()\n",
    "dict_x, dict_y = myGraph.get_bicm_fitnesses()\n",
    "print('Yielded data type is:', type(dict_x))"
   ]
  },
  {
   "cell_type": "markdown",
   "metadata": {},
   "source": [
    "The computed fitnesses are given as dictionaries, keeping track of the name of the nodes. If you are sure about the order of the fitnesses, you can get separately the fitness vectors and the dictionaries that keep track of the order of the nodes:"
   ]
  },
  {
   "cell_type": "code",
   "execution_count": 7,
   "metadata": {},
   "outputs": [],
   "source": [
    "x = myGraph.x\n",
    "y = myGraph.y\n",
    "rows_dict = myGraph.rows_dict\n",
    "cols_dict = myGraph.cols_dict"
   ]
  },
  {
   "cell_type": "markdown",
   "metadata": {},
   "source": [
    "Alternatively, you can have the bicm matrix of probabilities, whose entries i, j are the bicm probabilities of having a link between nodes i and j (who will correspond to rows_dict[i] and cols_dict[j]), or compute it on your own"
   ]
  },
  {
   "cell_type": "code",
   "execution_count": 8,
   "metadata": {},
   "outputs": [
    {
     "name": "stdout",
     "output_type": "stream",
     "text": [
      "True\n"
     ]
    }
   ],
   "source": [
    "avg_mat = myGraph.get_bicm_matrix()\n",
    "print(avg_mat[0, 0] == x[0] * y[0] / (1 + x[0] * y[0]))"
   ]
  },
  {
   "cell_type": "code",
   "execution_count": 9,
   "metadata": {},
   "outputs": [
    {
     "name": "stdout",
     "output_type": "stream",
     "text": [
      "True\n"
     ]
    }
   ],
   "source": [
    "avg_mat = bicm_from_fitnesses(x, y)\n",
    "print(avg_mat[0, 0] == x[0] * y[0] / (1 + x[0] * y[0]))"
   ]
  },
  {
   "cell_type": "markdown",
   "metadata": {},
   "source": [
    "And, if you like, you can check the solution by yourself:"
   ]
  },
  {
   "cell_type": "code",
   "execution_count": 10,
   "metadata": {},
   "outputs": [
    {
     "name": "stdout",
     "output_type": "stream",
     "text": [
      "max rows error = 7.144596025909777e-10\n",
      "max columns error = 2.1846062736585736e-09\n",
      "total error = 9.57038759352713e-09\n"
     ]
    }
   ],
   "source": [
    "# The data type conversions are generally consistent with the order, so this works\n",
    "myGraph.check_sol(biad_mat, avg_mat)"
   ]
  },
  {
   "cell_type": "markdown",
   "metadata": {},
   "source": [
    "You can then sample from the BiCM ensemble in two ways, via matrix sampling or edgelist sampling."
   ]
  },
  {
   "cell_type": "code",
   "execution_count": 11,
   "metadata": {},
   "outputs": [],
   "source": [
    "# Here we generate a sampling of 1000 networks and calculate the distribution of the number of links.\n",
    "tot_links = []\n",
    "for sample_i in range(1000):\n",
    "    sampled_network = sample_bicm(avg_mat)\n",
    "    tot_links.append(np.sum(sampled_network))"
   ]
  },
  {
   "cell_type": "code",
   "execution_count": 12,
   "metadata": {},
   "outputs": [],
   "source": [
    "sampled_edgelist = sample_bicm_edgelist(x, y)"
   ]
  },
  {
   "cell_type": "markdown",
   "metadata": {},
   "source": [
    "Now let's compute the projection: it can take some seconds."
   ]
  },
  {
   "cell_type": "code",
   "execution_count": 13,
   "metadata": {},
   "outputs": [
    {
     "name": "stderr",
     "output_type": "stream",
     "text": [
      "100%|████████████████████████████████████████| 131/131 [00:00<00:00, 588.51it/s]"
     ]
    },
    {
     "name": "stdout",
     "output_type": "stream",
     "text": [
      "{'\"Fritillaria graeca\"': ['\"Heliotropium dolosum\"', '\"Hypochoeris achyrophorus\"'], '\"Echinops microcephalus\"': ['\"Fumana thymifolia\"'], '\"Centaurea raphanina\"': ['\"Echinops microcephalus\"', '\"Fumana thymifolia\"'], '\"Astragalus monspessulanus\"': ['\"Biscutella didyma\"'], '\"Fumana arabica\"': ['\"Papaver rhoeas\"'], '\"Asphodelus aestivus\"': ['\"Astragalus monspessulanus\"', '\"Biscutella didyma\"'], '\"Carduus pycnocephalus\"': ['\"Hirschfeldia incana\"'], '\"Phlomis fructicosa\"': ['\"Plantago lagopus\"', '\"Prasium majus\"'], '\"Heliotropium dolosum\"': ['\"Hypochoeris achyrophorus\"'], '\"Plantago lagopus\"': ['\"Prasium majus\"']}\n"
     ]
    },
    {
     "name": "stderr",
     "output_type": "stream",
     "text": [
      "\n"
     ]
    }
   ],
   "source": [
    "rows_projection = myGraph.get_rows_projection()\n",
    "print(rows_projection)"
   ]
  },
  {
   "cell_type": "markdown",
   "metadata": {},
   "source": [
    "If you don't want to get the progress_bar you can set progress_bar=False. If you want to re-compute the projection with different settings (here a lower validation threshold), use compute_projection()"
   ]
  },
  {
   "cell_type": "code",
   "execution_count": 14,
   "metadata": {},
   "outputs": [],
   "source": [
    "myGraph.compute_projection(rows=True, alpha=0.01, progress_bar=False)"
   ]
  },
  {
   "cell_type": "code",
   "execution_count": 15,
   "metadata": {},
   "outputs": [
    {
     "name": "stdout",
     "output_type": "stream",
     "text": [
      "You can ask for an edgelist instead of an adjacency list by setting fmt=\"edgelist\"\n",
      "[['\"Echinops microcephalus\"' '\"Fumana thymifolia\"']\n",
      " ['\"Centaurea raphanina\"' '\"Echinops microcephalus\"']\n",
      " ['\"Centaurea raphanina\"' '\"Fumana thymifolia\"']\n",
      " ['\"Astragalus monspessulanus\"' '\"Biscutella didyma\"']\n",
      " ['\"Fumana arabica\"' '\"Papaver rhoeas\"']\n",
      " ['\"Asphodelus aestivus\"' '\"Astragalus monspessulanus\"']\n",
      " ['\"Asphodelus aestivus\"' '\"Biscutella didyma\"']\n",
      " ['\"Phlomis fructicosa\"' '\"Plantago lagopus\"']\n",
      " ['\"Phlomis fructicosa\"' '\"Prasium majus\"']\n",
      " ['\"Plantago lagopus\"' '\"Prasium majus\"']]\n"
     ]
    }
   ],
   "source": [
    "# You can ask for an edgelist instead of an adjacency list by setting fmt=\"edgelist\"\n",
    "print('You can ask for an edgelist instead of an adjacency list by setting fmt=\"edgelist\"')\n",
    "\n",
    "rows_projection = myGraph.get_rows_projection(fmt='edgelist')\n",
    "print(rows_projection)"
   ]
  },
  {
   "cell_type": "markdown",
   "metadata": {},
   "source": [
    "These projection only contain links between nodes that behave similarly with respect to the expected behavior calculated from the BiCM. They could also be empty:"
   ]
  },
  {
   "cell_type": "code",
   "execution_count": 16,
   "metadata": {},
   "outputs": [
    {
     "name": "stderr",
     "output_type": "stream",
     "text": [
      "100%|████████████████████████████████████████| 666/666 [00:00<00:00, 817.56it/s]\n"
     ]
    },
    {
     "name": "stdout",
     "output_type": "stream",
     "text": [
      "No V-motifs will be validated. Try increasing alpha\n"
     ]
    }
   ],
   "source": [
    "cols_projection = myGraph.get_cols_projection()"
   ]
  },
  {
   "cell_type": "code",
   "execution_count": 17,
   "metadata": {},
   "outputs": [
    {
     "name": "stderr",
     "output_type": "stream",
     "text": [
      "100%|████████████████████████████████████████| 666/666 [00:01<00:00, 449.39it/s]"
     ]
    },
    {
     "name": "stdout",
     "output_type": "stream",
     "text": [
      "No V-motifs will be validated. Try increasing alpha\n"
     ]
    },
    {
     "name": "stderr",
     "output_type": "stream",
     "text": [
      "\n"
     ]
    }
   ],
   "source": [
    "# Increasing alpha too much will make the projection too dense. \n",
    "# It is not suggested: if it is empty with a high alpha, try different projections.\n",
    "# Check the documentation and the papers for more info.\n",
    "myGraph.compute_projection(rows=False, alpha=0.2)"
   ]
  },
  {
   "cell_type": "markdown",
   "metadata": {},
   "source": [
    "Different projection methods are implemented. \n",
    "They differ in the way of approximating the poisson-binomial distribution of the similarities between nodes.\n",
    "By default, the poisson approximation is used, since the poisson binomial is very expensive to compute. Check the docs for more!\n",
    "Here, an example of the poibin implementation. This can take even some minutes, and it's faster when using a biadjacency matrix instead of other data types. Note that the poisson approximation is fairly good."
   ]
  },
  {
   "cell_type": "code",
   "execution_count": 18,
   "metadata": {},
   "outputs": [
    {
     "name": "stdout",
     "output_type": "stream",
     "text": [
      "Calculating p-values...\n"
     ]
    },
    {
     "name": "stderr",
     "output_type": "stream",
     "text": [
      "100%|████████████████████████████████████████| 465/465 [00:01<00:00, 330.16it/s]\n"
     ]
    },
    {
     "name": "stdout",
     "output_type": "stream",
     "text": [
      "No V-motifs will be validated. Try increasing alpha\n",
      "{'\"Echinops microcephalus\"': ['\"Fumana thymifolia\"'], '\"Centaurea raphanina\"': ['\"Echinops microcephalus\"', '\"Fumana thymifolia\"'], '\"Astragalus monspessulanus\"': ['\"Biscutella didyma\"'], '\"Fumana arabica\"': ['\"Papaver rhoeas\"'], '\"Asphodelus aestivus\"': ['\"Astragalus monspessulanus\"', '\"Biscutella didyma\"'], '\"Phlomis fructicosa\"': ['\"Plantago lagopus\"', '\"Prasium majus\"'], '\"Plantago lagopus\"': ['\"Prasium majus\"']}\n"
     ]
    }
   ],
   "source": [
    "myGraph.compute_projection(rows=False, method='poibin')\n",
    "rows_projection = myGraph.get_rows_projection()\n",
    "print(rows_projection)"
   ]
  },
  {
   "cell_type": "markdown",
   "metadata": {},
   "source": [
    "Now, let's have fun with other data structures and solver methods."
   ]
  },
  {
   "cell_type": "code",
   "execution_count": 19,
   "metadata": {},
   "outputs": [],
   "source": [
    "adj_list_names = adjacency_list_from_edgelist_bipartite(edgelist_names, convert_type=False)[0]"
   ]
  },
  {
   "cell_type": "code",
   "execution_count": 20,
   "metadata": {},
   "outputs": [],
   "source": [
    "myGraph2 = BipartiteGraph(adjacency_list=adj_list_names)"
   ]
  },
  {
   "cell_type": "markdown",
   "metadata": {},
   "source": [
    "Asking for the projection immediately will do everything automatically."
   ]
  },
  {
   "cell_type": "code",
   "execution_count": 21,
   "metadata": {},
   "outputs": [
    {
     "name": "stdout",
     "output_type": "stream",
     "text": [
      "First I have to compute the BiCM. Computing...\n",
      "max rows error = 7.144598246355827e-10\n",
      "max columns error = 2.1845778519491432e-09\n",
      "total error = 4.569030931378393e-09\n",
      "Solver converged.\n"
     ]
    },
    {
     "name": "stderr",
     "output_type": "stream",
     "text": [
      "/home/matteo/miniconda3/envs/bicm/lib/python3.10/site-packages/numba/core/utils.py:612: NumbaExperimentalFeatureWarning: First-class function type feature is experimental\n",
      "  warnings.warn(\"First-class function type feature is experimental\",\n",
      "100%|████████████████████████████████████████| 131/131 [00:00<00:00, 826.68it/s]\n"
     ]
    },
    {
     "data": {
      "text/plain": [
       "{'\"Asphodelus aestivus\"': ['\"Astragalus monspessulanus\"',\n",
       "  '\"Biscutella didyma\"'],\n",
       " '\"Astragalus monspessulanus\"': ['\"Biscutella didyma\"'],\n",
       " '\"Carduus pycnocephalus\"': ['\"Hirschfeldia incana\"'],\n",
       " '\"Centaurea raphanina\"': ['\"Echinops microcephalus\"', '\"Fumana thymifolia\"'],\n",
       " '\"Echinops microcephalus\"': ['\"Fumana thymifolia\"'],\n",
       " '\"Fritillaria graeca\"': ['\"Heliotropium dolosum\"',\n",
       "  '\"Hypochoeris achyrophorus\"'],\n",
       " '\"Fumana arabica\"': ['\"Papaver rhoeas\"'],\n",
       " '\"Heliotropium dolosum\"': ['\"Hypochoeris achyrophorus\"'],\n",
       " '\"Phlomis fructicosa\"': ['\"Plantago lagopus\"', '\"Prasium majus\"'],\n",
       " '\"Plantago lagopus\"': ['\"Prasium majus\"']}"
      ]
     },
     "execution_count": 21,
     "metadata": {},
     "output_type": "execute_result"
    }
   ],
   "source": [
    "myGraph2.get_rows_projection()"
   ]
  },
  {
   "cell_type": "code",
   "execution_count": 22,
   "metadata": {},
   "outputs": [],
   "source": [
    "rows_deg = biad_mat.sum(1)\n",
    "cols_deg = biad_mat.sum(0)"
   ]
  },
  {
   "cell_type": "code",
   "execution_count": 23,
   "metadata": {},
   "outputs": [],
   "source": [
    "myGraph3 = BipartiteGraph(degree_sequences=(rows_deg, cols_deg))"
   ]
  },
  {
   "cell_type": "markdown",
   "metadata": {},
   "source": [
    "Default (recommended) method is 'newton', three more methods are implemented"
   ]
  },
  {
   "cell_type": "code",
   "execution_count": 24,
   "metadata": {},
   "outputs": [
    {
     "name": "stdout",
     "output_type": "stream",
     "text": [
      "max rows error = 7.97194843471516e-09\n",
      "max columns error = 2.449649088021033e-07\n",
      "total error = 3.4629640688343954e-07\n",
      "Solver converged.\n"
     ]
    }
   ],
   "source": [
    "myGraph3.solve_tool(method='fixed-point', tol=1e-5, exp=True)"
   ]
  },
  {
   "cell_type": "code",
   "execution_count": 25,
   "metadata": {},
   "outputs": [
    {
     "name": "stderr",
     "output_type": "stream",
     "text": [
      "/home/matteo/miniconda3/envs/bicm/lib/python3.10/site-packages/numba/core/utils.py:612: NumbaExperimentalFeatureWarning: First-class function type feature is experimental\n",
      "  warnings.warn(\"First-class function type feature is experimental\",\n",
      "/home/matteo/miniconda3/envs/bicm/lib/python3.10/site-packages/bicm/models_functions.py:114: NumbaExperimentalFeatureWarning: First-class function type feature is experimental\n",
      "  step_fun = args[0]\n",
      "/home/matteo/miniconda3/envs/bicm/lib/python3.10/site-packages/bicm/models_functions.py:115: NumbaExperimentalFeatureWarning: First-class function type feature is experimental\n",
      "  arg_step_fun = args[1]\n"
     ]
    },
    {
     "name": "stdout",
     "output_type": "stream",
     "text": [
      "max rows error = 5.133965288450781e-07\n",
      "max columns error = 4.904200920918811e-07\n",
      "total error = 4.534840823744446e-06\n",
      "Solver converged.\n"
     ]
    },
    {
     "name": "stderr",
     "output_type": "stream",
     "text": [
      "/home/matteo/miniconda3/envs/bicm/lib/python3.10/site-packages/numba/core/utils.py:612: NumbaExperimentalFeatureWarning: First-class function type feature is experimental\n",
      "  warnings.warn(\"First-class function type feature is experimental\",\n"
     ]
    }
   ],
   "source": [
    "myGraph3.solve_tool(method='quasinewton', tol=1e-12, exp=True)"
   ]
  },
  {
   "cell_type": "markdown",
   "metadata": {},
   "source": [
    "This is the only method that works with a scipy solver, not recommended."
   ]
  },
  {
   "cell_type": "code",
   "execution_count": 26,
   "metadata": {},
   "outputs": [
    {
     "name": "stdout",
     "output_type": "stream",
     "text": [
      "max rows error = 2.1316282072803006e-14\n",
      "max columns error = 1.4210854715202004e-14\n",
      "total error = 2.715605518233133e-13\n",
      "Solver converged.\n"
     ]
    }
   ],
   "source": [
    "myGraph3.solve_tool(method='root')"
   ]
  },
  {
   "cell_type": "markdown",
   "metadata": {},
   "source": [
    "If you want to retrieve the p-values of the projection on one layer, just call the pvals on the object after the computation:"
   ]
  },
  {
   "cell_type": "code",
   "execution_count": 31,
   "metadata": {},
   "outputs": [
    {
     "name": "stderr",
     "output_type": "stream",
     "text": [
      "100%|████████████████████████████████████████| 131/131 [00:00<00:00, 497.28it/s]\n"
     ]
    }
   ],
   "source": [
    "# Use the rows arg to project on the rows or columns\n",
    "myGraph2.compute_projection()\n",
    "pval_adj_list = myGraph2.rows_pvals"
   ]
  },
  {
   "cell_type": "markdown",
   "metadata": {},
   "source": [
    "Keep in mind that the p-values are an adjacency list as well."
   ]
  },
  {
   "cell_type": "code",
   "execution_count": 32,
   "metadata": {},
   "outputs": [
    {
     "name": "stdout",
     "output_type": "stream",
     "text": [
      "{1: 0.9972317357273726, 2: 0.9999999782267512, 3: 0.9923305795538132, 4: 0.9691310327757711, 5: 0.9958459965121682, 6: 0.9986966881488136, 7: 0.4201122733126731, 8: 0.9826101765475903, 9: 0.9980202118225047, 10: 0.999999924806693, 11: 0.9999930005461447, 12: 0.15580763169695316, 13: 0.09605763033353505, 14: 0.12026450868876538, 15: 0.9999980970151539, 16: 0.20607874995381165, 18: 0.12288836592288764, 19: 0.9045078785200347, 20: 0.5691142982511165, 21: 0.002227327838899109, 23: 0.8358035335155302, 24: 0.985081468592181, 25: 0.9996179582375733, 26: 0.999492110918237, 27: 0.7326793755863071, 28: 0.488107408748521, 29: 0.488107408748521, 30: 0.009012789568057232, 31: 0.5193898283428944, 33: 0.6305768333408953, 34: 0.19243479311418182, 35: 0.7011043550814545, 36: 0.9945819902758493, 37: 0.5921716747807659, 38: 0.1757461820681013, 39: 0.9998597991345853, 41: 0.9951651602560272, 42: 0.7699664957209895, 44: 0.9978043607403938, 45: 0.9994580504752817, 46: 0.9689984889420985, 47: 0.8073771209800313, 48: 0.6944661217367215, 49: 0.8936661239396996, 50: 0.9925784265389471, 51: 0.9978893418055128, 52: 0.9997755010509277, 53: 0.9864552147355754, 54: 0.9970330680697518, 55: 0.9970330680697518, 56: 0.9996710583628527, 58: 0.9995170169278214, 59: 0.49511741309049045, 60: 0.8775123673585753, 61: 0.945915687341673, 62: 0.9995170169278214, 64: 0.8775123673585753, 65: 0.35672113456244403, 66: 0.994137234754423, 67: 0.468718318662627, 68: 0.9559954949784693, 69: 0.886056734368088, 70: 0.9837498830019336, 71: 0.9413554552169114, 74: 0.9977036258204441, 75: 0.9977036258204441, 76: 0.9413554552169114, 77: 0.9221534809704792, 78: 0.669889138786308, 80: 0.8179160942163307, 82: 0.9949151966276015, 83: 0.9923995878786759, 84: 0.3629151336342804, 85: 0.7176576742059702, 87: 0.8235044440982213, 88: 0.9886011942959156, 89: 0.9376001255831552, 90: 0.6533403689513744, 94: 0.8235044440982213, 97: 0.9828404731239413, 98: 0.7712955192522346, 99: 0.7712955192522346, 100: 0.3838990864912149, 102: 0.5791632232720764, 105: 0.8793231588912892, 108: 0.9605895784940303, 109: 0.22541861271900707, 110: 0.4049796769794048, 111: 0.8331471135081356, 112: 0.9605895784940303, 113: 0.532853109278974, 114: 0.9397763762348869, 115: 0.6868478279616187, 116: 0.4246632750042145, 117: 0.09319130624858679, 118: 0.6868478279616187, 121: 0.13190450466319617, 122: 0.8560402645626255, 123: 0.43747273988252605, 125: 0.7737205191145515, 127: 0.6384547612939611, 128: 0.6384547612939611, 130: 0.4087523455291798, 40: 0.03271690237974314, 43: 0.23594175553022723, 17: 0.0037546545381806195, 32: 0.30881094291980193, 81: 0.08802688442578552, 95: 0.8235044440982213, 104: 0.7063399134186699, 119: 0.4246632750042145, 22: 0.9960462593044195, 72: 0.405970676718912, 96: 0.9828404731239413, 73: 0.160753503817764, 103: 0.7063399134186699, 63: 0.945915687341673, 79: 0.9221534809704792, 86: 0.5381239708524187, 101: 0.7712955192522346, 106: 0.7063399134186699, 129: 0.4087523455291798, 91: 0.9886011942959156, 92: 0.9886011942959156, 93: 0.9886011942959156, 126: 0.7737205191145515}\n"
     ]
    }
   ],
   "source": [
    "print(pval_adj_list[list(pval_adj_list.keys())[0]])"
   ]
  },
  {
   "cell_type": "code",
   "execution_count": null,
   "metadata": {},
   "outputs": [],
   "source": []
  }
 ],
 "metadata": {
  "kernelspec": {
   "display_name": "Python 3 (ipykernel)",
   "language": "python",
   "name": "python3"
  },
  "language_info": {
   "codemirror_mode": {
    "name": "ipython",
    "version": 3
   },
   "file_extension": ".py",
   "mimetype": "text/x-python",
   "name": "python",
   "nbconvert_exporter": "python",
   "pygments_lexer": "ipython3",
   "version": "3.10.2"
  }
 },
 "nbformat": 4,
 "nbformat_minor": 4
}
